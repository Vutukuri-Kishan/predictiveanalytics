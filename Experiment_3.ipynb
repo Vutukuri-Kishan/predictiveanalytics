{
  "nbformat": 4,
  "nbformat_minor": 0,
  "metadata": {
    "colab": {
      "provenance": [],
      "authorship_tag": "ABX9TyN2NoDtoXZy3E6hZfI1RKNQ",
      "include_colab_link": true
    },
    "kernelspec": {
      "name": "python3",
      "display_name": "Python 3"
    },
    "language_info": {
      "name": "python"
    }
  },
  "cells": [
    {
      "cell_type": "markdown",
      "metadata": {
        "id": "view-in-github",
        "colab_type": "text"
      },
      "source": [
        "<a href=\"https://colab.research.google.com/github/Vutukuri-Kishan/predictiveanalytics/blob/main/Experiment_3.ipynb\" target=\"_parent\"><img src=\"https://colab.research.google.com/assets/colab-badge.svg\" alt=\"Open In Colab\"/></a>"
      ]
    },
    {
      "cell_type": "markdown",
      "source": [
        "EXPERIMENT -3: Logistic Regression"
      ],
      "metadata": {
        "id": "M9WpUvwT9Oqu"
      }
    },
    {
      "cell_type": "code",
      "execution_count": 2,
      "metadata": {
        "colab": {
          "base_uri": "https://localhost:8080/",
          "height": 983
        },
        "id": "ATaSmyao8w0p",
        "outputId": "f8f3ac60-e238-45cb-c1f7-a4f643aa2c67"
      },
      "outputs": [
        {
          "output_type": "stream",
          "name": "stdout",
          "text": [
            "Shape of features (X): (1000, 10)\n",
            "Shape of target (y): (1000,)\n",
            "Unique target classes: [0 1]\n",
            "\n",
            "Train set size: (700, 10) samples\n",
            "Test set size: (300, 10) samples\n",
            "\n",
            "Logistic Regression model trained successfully.\n",
            "\n",
            "Model Evaluation:\n",
            "Accuracy: 0.85\n",
            "\n",
            "Confusion Matrix:\n",
            "[[118  17]\n",
            " [ 29 136]]\n"
          ]
        },
        {
          "output_type": "display_data",
          "data": {
            "text/plain": [
              "<Figure size 600x400 with 1 Axes>"
            ],
            "image/png": "[encoded data removed]"
          },
          "metadata": {}
        },
        {
          "output_type": "stream",
          "name": "stdout",
          "text": [
            "\n",
            "Classification Report:\n",
            "              precision    recall  f1-score   support\n",
            "\n",
            "           0       0.80      0.87      0.84       135\n",
            "           1       0.89      0.82      0.86       165\n",
            "\n",
            "    accuracy                           0.85       300\n",
            "   macro avg       0.85      0.85      0.85       300\n",
            "weighted avg       0.85      0.85      0.85       300\n",
            "\n",
            "\n",
            "Sample Predictions and Probabilities (first 5 test samples):\n",
            "Actual: 0, Predicted: 0, Probabilities (Class 0, Class 1): [0.77467572 0.22532428]\n",
            "Actual: 1, Predicted: 1, Probabilities (Class 0, Class 1): [0.03374258 0.96625742]\n",
            "Actual: 1, Predicted: 0, Probabilities (Class 0, Class 1): [0.67096627 0.32903373]\n",
            "Actual: 1, Predicted: 1, Probabilities (Class 0, Class 1): [0.07999551 0.92000449]\n",
            "Actual: 0, Predicted: 0, Probabilities (Class 0, Class 1): [0.97664538 0.02335462]\n"
          ]
        }
      ],
      "source": [
        "import numpy as np\n",
        "from sklearn.datasets import make_classification\n",
        "from sklearn.model_selection import train_test_split\n",
        "from sklearn.linear_model import LogisticRegression\n",
        "from sklearn.metrics import accuracy_score, confusion_matrix, classification_report\n",
        "import matplotlib.pyplot as plt\n",
        "import seaborn as sns\n",
        "\n",
        "X, y = make_classification(n_samples=1000, n_features=10, n_classes=2, random_state=42)\n",
        "print(f\"Shape of features (X): {X.shape}\")\n",
        "print(f\"Shape of target (y): {y.shape}\")\n",
        "print(f\"Unique target classes: {np.unique(y)}\\n\")\n",
        "\n",
        "X_train, X_test, y_train, y_test = train_test_split(X, y, test_size=0.3, random_state=42)\n",
        "print(f\"Train set size: {X_train.shape} samples\")\n",
        "print(f\"Test set size: {X_test.shape} samples\\n\")\n",
        "\n",
        "model = LogisticRegression(solver='liblinear', random_state=42)\n",
        "model.fit(X_train, y_train)\n",
        "print(\"Logistic Regression model trained successfully.\\n\")\n",
        "\n",
        "y_pred = model.predict(X_test)\n",
        "y_pred_proba = model.predict_proba(X_test)\n",
        "print(\"Model Evaluation:\")\n",
        "print(f\"Accuracy: {accuracy_score(y_test, y_pred):.2f}\")\n",
        "\n",
        "cm = confusion_matrix(y_test, y_pred)\n",
        "print(\"\\nConfusion Matrix:\")\n",
        "print(cm)\n",
        "\n",
        "plt.figure(figsize=(6, 4))\n",
        "sns.heatmap(cm, annot=True, fmt='d', cmap='Blues', cbar=False,\n",
        "xticklabels=['Predicted 0', 'Predicted 1'], yticklabels=['Actual 0', 'Actual 1'])\n",
        "plt.xlabel('Predicted Label')\n",
        "plt.ylabel('True Label')\n",
        "plt.title('Confusion Matrix')\n",
        "plt.show()\n",
        "\n",
        "print(\"\\nClassification Report:\")\n",
        "print(classification_report(y_test, y_pred))\n",
        "\n",
        "print(\"\\nSample Predictions and Probabilities (first 5 test samples):\")\n",
        "for i in range(5):\n",
        "  print(f\"Actual: {y_test[i]}, Predicted: {y_pred[i]}, Probabilities (Class 0, Class 1): {y_pred_proba[i]}\")\n",
        ""
      ]
    }
  ]
}