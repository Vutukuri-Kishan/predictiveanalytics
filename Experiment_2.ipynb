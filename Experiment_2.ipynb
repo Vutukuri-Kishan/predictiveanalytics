{
  "nbformat": 4,
  "nbformat_minor": 0,
  "metadata": {
    "colab": {
      "provenance": [],
      "authorship_tag": "ABX9TyMyFv1T3oiSEuILMwLgeXqj",
      "include_colab_link": true
    },
    "kernelspec": {
      "name": "python3",
      "display_name": "Python 3"
    },
    "language_info": {
      "name": "python"
    }
  },
  "cells": [
    {
      "cell_type": "markdown",
      "metadata": {
        "id": "view-in-github",
        "colab_type": "text"
      },
      "source": [
        "<a href=\"https://colab.research.google.com/github/Vutukuri-Kishan/predictiveanalytics/blob/main/Experiment_2.ipynb\" target=\"_parent\"><img src=\"https://colab.research.google.com/assets/colab-badge.svg\" alt=\"Open In Colab\"/></a>"
      ]
    },
    {
      "cell_type": "markdown",
      "source": [
        "EXPERIMENT - 2: Multiple Linear Regression\n"
      ],
      "metadata": {
        "id": "uBDURL1rqFFv"
      }
    },
    {
      "cell_type": "code",
      "execution_count": null,
      "metadata": {
        "colab": {
          "base_uri": "https://localhost:8080/"
        },
        "id": "mOtOIX2Opns3",
        "outputId": "cccd83c2-ed52-406c-d13f-396bf619e821"
      },
      "outputs": [
        {
          "output_type": "stream",
          "name": "stdout",
          "text": [
            "Coefficients: [6.         0.33333333]\n",
            "Intercept: 17.666666666666643\n",
            "Predicted values: [49.66666667 59.         66.66666667 76.         83.66666667]\n"
          ]
        }
      ],
      "source": [
        "import numpy as np\n",
        "from sklearn.linear_model import LinearRegression\n",
        "# Input data: [Hours Studied, Attendance %]\n",
        "X = np.array([\n",
        "[2, 60],\n",
        "[3, 70],\n",
        "[4, 75],\n",
        "[5, 85],\n",
        "[6, 90]\n",
        "])\n",
        "# Target scores\n",
        "y = np.array([50, 60, 65, 75, 85])\n",
        "# Model\n",
        "model = LinearRegression()\n",
        "model.fit(X, y)\n",
        "y_pred = model.predict(X)\n",
        "print(\"Coefficients:\", model.coef_)\n",
        "print(\"Intercept:\", model.intercept_)\n",
        "print(\"Predicted values:\", y_pred)"
      ]
    }
  ]
}